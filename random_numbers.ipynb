{
 "cells": [
  {
   "cell_type": "markdown",
   "id": "6e785c67",
   "metadata": {},
   "source": [
    "# The random Module"
   ]
  },
  {
   "cell_type": "code",
   "execution_count": 1,
   "id": "dd842683",
   "metadata": {},
   "outputs": [],
   "source": [
    "#import the random module\n",
    "import random"
   ]
  },
  {
   "cell_type": "code",
   "execution_count": 9,
   "id": "0e271fdb",
   "metadata": {},
   "outputs": [
    {
     "data": {
      "text/plain": [
       "77"
      ]
     },
     "execution_count": 9,
     "metadata": {},
     "output_type": "execute_result"
    }
   ],
   "source": [
    "#random randit: random integer\n",
    "#get a single integer -90 and 90 b/c we need 2 latitudes between -90 and 90\n",
    "random.randint(-90, 90)"
   ]
  },
  {
   "cell_type": "markdown",
   "id": "a3fef3de",
   "metadata": {},
   "source": [
    "# The random() Function"
   ]
  },
  {
   "cell_type": "code",
   "execution_count": 10,
   "id": "a2f68536",
   "metadata": {},
   "outputs": [
    {
     "data": {
      "text/plain": [
       "0.5369397349037852"
      ]
     },
     "execution_count": 10,
     "metadata": {},
     "output_type": "execute_result"
    }
   ],
   "source": [
    "#random random: get a single floating-point decimal number between 0 and 1.0\n",
    "random.random()"
   ]
  },
  {
   "cell_type": "code",
   "execution_count": 11,
   "id": "c6c9d30d",
   "metadata": {},
   "outputs": [
    {
     "data": {
      "text/plain": [
       "78.11663615266798"
      ]
     },
     "execution_count": 11,
     "metadata": {},
     "output_type": "execute_result"
    }
   ],
   "source": [
    "random_number = random.randint(-90,89) + random.random()\n",
    "random_number"
   ]
  },
  {
   "cell_type": "code",
   "execution_count": 12,
   "id": "ddf5f821",
   "metadata": {},
   "outputs": [],
   "source": [
    "#assign the variable x to 1\n",
    "x = 1\n",
    "#initialize an empty list\n",
    "latitudes = []\n",
    "#create while loop where er generate a random latitude and add it to the list\n",
    "while x < 11:\n",
    "    random_lat = random.randint(-90, 89) + random.random()\n",
    "    latitudes.append(random_lat)\n",
    "    #after than random latitude added to the list, we add one to the variable x\n",
    "    x += 1\n",
    "    #the while loop condition is checked again and will continue to run as long as x is less than 11"
   ]
  },
  {
   "cell_type": "code",
   "execution_count": 13,
   "id": "e6063d39",
   "metadata": {},
   "outputs": [
    {
     "data": {
      "text/plain": [
       "16"
      ]
     },
     "execution_count": 13,
     "metadata": {},
     "output_type": "execute_result"
    }
   ],
   "source": [
    "#randrange() behaves differently\n",
    "#inside (), need to add 2 numbers, a lower and upper limit, separated by a comma\n",
    "#randrange() option: add a STEP and set it equal to an integer => generate increments of a given integer value\n",
    "##from lower to the upper limit\n",
    "random.randrange(-90, 90, step=1)"
   ]
  },
  {
   "cell_type": "markdown",
   "id": "54e06c65",
   "metadata": {},
   "source": [
    "# The randrange() Function"
   ]
  },
  {
   "cell_type": "code",
   "execution_count": 14,
   "id": "fdcfe8b0",
   "metadata": {},
   "outputs": [
    {
     "data": {
      "text/plain": [
       "-78"
      ]
     },
     "execution_count": 14,
     "metadata": {},
     "output_type": "execute_result"
    }
   ],
   "source": [
    "#difference between each number in the sequence is 3\n",
    "random.randrange(-90, 90, step=3)"
   ]
  },
  {
   "cell_type": "markdown",
   "id": "f3466f13",
   "metadata": {},
   "source": [
    "# The uniform() Function"
   ]
  },
  {
   "cell_type": "code",
   "execution_count": 15,
   "id": "262f2a09",
   "metadata": {},
   "outputs": [
    {
     "data": {
      "text/plain": [
       "-4.12217834917621"
      ]
     },
     "execution_count": 15,
     "metadata": {},
     "output_type": "execute_result"
    }
   ],
   "source": [
    "#uniform(): generate a floating-point decimal number between 2 given numbers inside ()\n",
    "random.uniform(-90, 90)"
   ]
  },
  {
   "cell_type": "markdown",
   "id": "cd26a5b0",
   "metadata": {},
   "source": [
    "# The NumPy and random Modules"
   ]
  },
  {
   "cell_type": "code",
   "execution_count": 16,
   "id": "eaca5bf0",
   "metadata": {},
   "outputs": [],
   "source": [
    "#import the NumPy module\n",
    "import numpy as np"
   ]
  },
  {
   "cell_type": "code",
   "execution_count": 17,
   "id": "98dea39d",
   "metadata": {},
   "outputs": [
    {
     "data": {
      "text/plain": [
       "-26.25828298342791"
      ]
     },
     "execution_count": 17,
     "metadata": {},
     "output_type": "execute_result"
    }
   ],
   "source": [
    "#generate a floating point decimal number between -90.000 to 90.000\n",
    "np.random.uniform(-90.000, 90.000)\n",
    "\n",
    "#when use NumPy module with random.uniform(), the () contains a lower boundary (low value) and upper boundary (high value)\n",
    "##that are floating point decimal numnbers"
   ]
  },
  {
   "cell_type": "code",
   "execution_count": 18,
   "id": "a149b667",
   "metadata": {},
   "outputs": [
    {
     "data": {
      "text/plain": [
       "-14.163842776512993"
      ]
     },
     "execution_count": 18,
     "metadata": {},
     "output_type": "execute_result"
    }
   ],
   "source": [
    "#another option is to write the () as:\n",
    "np.random.uniform(low=-90, high=90)"
   ]
  },
  {
   "cell_type": "code",
   "execution_count": 19,
   "id": "fa47e303",
   "metadata": {},
   "outputs": [
    {
     "data": {
      "text/plain": [
       "array([ 81.99657265,  58.65908134,  86.51020183,  30.84529204,\n",
       "       -70.97874377, -44.81405608,  26.60298694,   1.42266283,\n",
       "       -88.14982111,  15.56134014,  65.53919726, -77.26174581,\n",
       "        48.04050368, -34.04094566,  41.8335583 ,  42.33296364,\n",
       "       -64.41996778,  39.25466362,  72.58830241,  88.77135707,\n",
       "       -32.24712063,   5.11228748, -42.99557673, -22.25045209,\n",
       "        70.05005125,  -8.61430331,  -7.82307321, -66.41669701,\n",
       "        43.67084714, -55.71431916, -65.51373337, -79.57053565,\n",
       "       -61.96324017,  86.25984932,  -6.35941794,  -0.53849455,\n",
       "       -74.16121152, -49.60432952, -88.22655259,  54.82280847,\n",
       "        41.79997246, -83.32106753, -62.49576497, -64.99517734,\n",
       "        -5.7496419 ,  66.13773334,  62.38646513, -56.4758258 ,\n",
       "       -43.78240338,  15.27021876])"
      ]
     },
     "execution_count": 19,
     "metadata": {},
     "output_type": "execute_result"
    }
   ],
   "source": [
    "#SIZE: to generate more than one floating point decimmal number between -90 and 90\n",
    "## and set that equal to any whole number\n",
    "np.random.uniform(-90.000, 90.000, size=50)"
   ]
  },
  {
   "cell_type": "code",
   "execution_count": 20,
   "id": "cfe5e543",
   "metadata": {},
   "outputs": [],
   "source": [
    "# Timeit: to test how logna piece of code or function takes to run\n",
    "#import timeit\n",
    "import timeit"
   ]
  },
  {
   "cell_type": "code",
   "execution_count": 21,
   "id": "c6aa3e91",
   "metadata": {},
   "outputs": [
    {
     "name": "stdout",
     "output_type": "stream",
     "text": [
      "79.5 µs ± 1.6 µs per loop (mean ± std. dev. of 7 runs, 10000 loops each)\n"
     ]
    }
   ],
   "source": [
    "%timeit np.random.uniform(-90.000, 90.000, size=15000)\n",
    "\n",
    "#How to read output\n",
    "## 79.5 mircroseconds\n",
    "##the amount of time it takes to run this code depends on the processing speed and RAM of your computer"
   ]
  },
  {
   "cell_type": "code",
   "execution_count": 23,
   "id": "1db27d6d",
   "metadata": {},
   "outputs": [
    {
     "name": "stdout",
     "output_type": "stream",
     "text": [
      "1.04 ms ± 23.4 µs per loop (mean ± std. dev. of 7 runs, 1000 loops each)\n"
     ]
    }
   ],
   "source": [
    "def latitudes(size):\n",
    "    latitudes = []\n",
    "    x = 0\n",
    "    while x < (size):\n",
    "        random_lat = random.randint(-90, 90) + random.random()\n",
    "        latitudes.append(random_lat)\n",
    "        x += 1\n",
    "    return latitudes\n",
    "#call the function with 1500\n",
    "%timeit latitudes(1500)\n",
    "\n",
    "# Output is 1.04 milliseconds\n",
    "# using the np.random.uniform(-90.000, 90.000, size=1500) is 100 times faster \n",
    "## than using the function, and our code is 1 line, whereas the function uses 8 lines!"
   ]
  },
  {
   "cell_type": "markdown",
   "id": "431fd70b",
   "metadata": {},
   "source": [
    "# Create Latitude and Longitude Combinations"
   ]
  },
  {
   "cell_type": "code",
   "execution_count": 25,
   "id": "d003db16",
   "metadata": {},
   "outputs": [],
   "source": [
    "# import the dependencies \n",
    "import pandas as pd\n",
    "import matplotlib.pyplot as plt\n",
    "import numpy as np"
   ]
  },
  {
   "cell_type": "code",
   "execution_count": 29,
   "id": "f592b11b",
   "metadata": {},
   "outputs": [
    {
     "data": {
      "text/plain": [
       "<zip at 0x7f79f2b45900>"
      ]
     },
     "execution_count": 29,
     "metadata": {},
     "output_type": "execute_result"
    }
   ],
   "source": [
    "#create a set of random latitude and longitude combinations\n",
    "lats = np.random.uniform(low=-90.000, high=90.000, size=1500)\n",
    "lngs = np.random.uniform(low=-180.000, high=180.000, size=1500)\n",
    "lat_lngs = zip(lats, lngs)\n",
    "lat_lngs\n",
    "\n",
    "#zip object packs each pair of lats and lngs having the same index in their respective array into tuple\n",
    "#if there're 1500 lats & longs,there'll be 1500 tuples of paired lat and long\n",
    "#where each lats & longs in a tuple can be accessed by the index of 0 & 1"
   ]
  },
  {
   "cell_type": "code",
   "execution_count": null,
   "id": "40787a08",
   "metadata": {},
   "outputs": [],
   "source": []
  }
 ],
 "metadata": {
  "kernelspec": {
   "display_name": "Python 3 (ipykernel)",
   "language": "python",
   "name": "python3"
  },
  "language_info": {
   "codemirror_mode": {
    "name": "ipython",
    "version": 3
   },
   "file_extension": ".py",
   "mimetype": "text/x-python",
   "name": "python",
   "nbconvert_exporter": "python",
   "pygments_lexer": "ipython3",
   "version": "3.9.7"
  }
 },
 "nbformat": 4,
 "nbformat_minor": 5
}
